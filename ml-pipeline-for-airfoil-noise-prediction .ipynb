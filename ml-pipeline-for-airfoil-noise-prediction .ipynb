{
 "cells": [
  {
   "cell_type": "markdown",
   "id": "1d1d4feb",
   "metadata": {
    "papermill": {
     "duration": 0.01397,
     "end_time": "2024-03-01T12:20:05.860174",
     "exception": false,
     "start_time": "2024-03-01T12:20:05.846204",
     "status": "completed"
    },
    "tags": []
   },
   "source": [
    "# ML Pipeline for Airfoil noise prediction\n"
   ]
  },
  {
   "cell_type": "markdown",
   "id": "228452e2",
   "metadata": {
    "papermill": {
     "duration": 0.012963,
     "end_time": "2024-03-01T12:20:05.886601",
     "exception": false,
     "start_time": "2024-03-01T12:20:05.873638",
     "status": "completed"
    },
    "tags": []
   },
   "source": [
    "## Scenario\n"
   ]
  },
  {
   "cell_type": "markdown",
   "id": "90e3d26c",
   "metadata": {
    "papermill": {
     "duration": 0.014224,
     "end_time": "2024-03-01T12:20:05.914180",
     "exception": false,
     "start_time": "2024-03-01T12:20:05.899956",
     "status": "completed"
    },
    "tags": []
   },
   "source": [
    "You are a data engineer at an aeronautics consulting company. Your company prides itself in being able to efficiently design airfoils for use in planes and sports cars. Data scientists in your office need to work with different algorithms and data in different formats. While they are good at Machine Learning, they count on you to be able to do ETL jobs and build ML pipelines. In this project you will use the modified version of the NASA Airfoil Self Noise dataset. You will clean this dataset, by dropping the duplicate rows, and removing the rows with null values. You will create an ML pipe line to create a model that will predict the SoundLevel based on all the other columns. You will evaluate the model and towards the end you will persist the model.\n",
    "\n"
   ]
  },
  {
   "cell_type": "markdown",
   "id": "22d1cb4b",
   "metadata": {
    "papermill": {
     "duration": 0.013479,
     "end_time": "2024-03-01T12:20:05.940973",
     "exception": false,
     "start_time": "2024-03-01T12:20:05.927494",
     "status": "completed"
    },
    "tags": []
   },
   "source": [
    "## Objectives\n",
    "\n",
    "In this 4 part assignment you will:\n",
    "\n",
    "- Part 1 Perform ETL activity\n",
    "  - Load a csv dataset\n",
    "  - Remove duplicates if any\n",
    "  - Drop rows with null values if any\n",
    "  - Make transformations\n",
    "  - Store the cleaned data in parquet format\n",
    "- Part 2 Create a  Machine Learning Pipeline\n",
    "  - Create a machine learning pipeline for prediction\n",
    "- Part 3 Evaluate the Model\n",
    "  - Evaluate the model using relevant metrics\n",
    "- Part 4 Persist the Model \n",
    "  - Save the model for future production use\n",
    "  - Load and verify the stored model\n"
   ]
  },
  {
   "cell_type": "markdown",
   "id": "65824cce",
   "metadata": {
    "papermill": {
     "duration": 0.013486,
     "end_time": "2024-03-01T12:20:05.967791",
     "exception": false,
     "start_time": "2024-03-01T12:20:05.954305",
     "status": "completed"
    },
    "tags": []
   },
   "source": [
    "Diagram of an airfoil. - For informational purpose\n"
   ]
  },
  {
   "cell_type": "markdown",
   "id": "43f764c4",
   "metadata": {
    "papermill": {
     "duration": 0.013035,
     "end_time": "2024-03-01T12:20:05.994132",
     "exception": false,
     "start_time": "2024-03-01T12:20:05.981097",
     "status": "completed"
    },
    "tags": []
   },
   "source": [
    "![Airfoil with flow](https://cf-courses-data.s3.us.cloud-object-storage.appdomain.cloud/IBMSkillsNetwork-BD0231EN-Coursera/images/Airfoil_with_flow.png)\n"
   ]
  },
  {
   "cell_type": "markdown",
   "id": "7aa6abcf",
   "metadata": {
    "papermill": {
     "duration": 0.014251,
     "end_time": "2024-03-01T12:20:06.025487",
     "exception": false,
     "start_time": "2024-03-01T12:20:06.011236",
     "status": "completed"
    },
    "tags": []
   },
   "source": [
    "Diagram showing the Angle of attack. - For informational purpose\n"
   ]
  },
  {
   "cell_type": "markdown",
   "id": "6f3c1663",
   "metadata": {
    "papermill": {
     "duration": 0.013209,
     "end_time": "2024-03-01T12:20:06.053319",
     "exception": false,
     "start_time": "2024-03-01T12:20:06.040110",
     "status": "completed"
    },
    "tags": []
   },
   "source": [
    "![Airfoil angle of attack](https://cf-courses-data.s3.us.cloud-object-storage.appdomain.cloud/IBMSkillsNetwork-BD0231EN-Coursera/images/Airfoil_angle_of_attack.jpg)\n"
   ]
  },
  {
   "cell_type": "markdown",
   "id": "2e5c54d4",
   "metadata": {
    "papermill": {
     "duration": 0.013244,
     "end_time": "2024-03-01T12:20:06.080486",
     "exception": false,
     "start_time": "2024-03-01T12:20:06.067242",
     "status": "completed"
    },
    "tags": []
   },
   "source": [
    "## Setup\n"
   ]
  },
  {
   "cell_type": "markdown",
   "id": "78f58c72",
   "metadata": {
    "papermill": {
     "duration": 0.013084,
     "end_time": "2024-03-01T12:20:06.107098",
     "exception": false,
     "start_time": "2024-03-01T12:20:06.094014",
     "status": "completed"
    },
    "tags": []
   },
   "source": [
    "For this lab, we will be using the following libraries:\n",
    "\n",
    "*   [`PySpark`](https://spark.apache.org/docs/latest/api/python/index.html?utm_medium=Exinfluencer&utm_source=Exinfluencer&utm_content=000026UJ&utm_term=10006555&utm_id=NA-SkillsNetwork-Channel-SkillsNetworkCoursesIBMSkillsNetworkBD0231ENCoursera2789-2023-01-01) for connecting to the Spark Cluster\n"
   ]
  },
  {
   "cell_type": "markdown",
   "id": "60b15e96",
   "metadata": {
    "papermill": {
     "duration": 0.013094,
     "end_time": "2024-03-01T12:20:06.133571",
     "exception": false,
     "start_time": "2024-03-01T12:20:06.120477",
     "status": "completed"
    },
    "tags": []
   },
   "source": [
    "### Installing Required Libraries\n",
    "\n",
    "we need libraries like pyspark and findspark to\n",
    " connect to Spark Cluster.\n"
   ]
  },
  {
   "cell_type": "code",
   "execution_count": 1,
   "id": "deecd8c9",
   "metadata": {
    "execution": {
     "iopub.execute_input": "2024-03-01T12:20:06.162185Z",
     "iopub.status.busy": "2024-03-01T12:20:06.161686Z",
     "iopub.status.idle": "2024-03-01T12:21:01.671519Z",
     "shell.execute_reply": "2024-03-01T12:21:01.669817Z"
    },
    "papermill": {
     "duration": 55.527674,
     "end_time": "2024-03-01T12:21:01.674679",
     "exception": false,
     "start_time": "2024-03-01T12:20:06.147005",
     "status": "completed"
    },
    "tags": []
   },
   "outputs": [],
   "source": [
    "!pip install pyspark==3.1.2 -q\n",
    "!pip install findspark -q"
   ]
  },
  {
   "cell_type": "markdown",
   "id": "8ace05ad",
   "metadata": {
    "papermill": {
     "duration": 0.014794,
     "end_time": "2024-03-01T12:21:01.703683",
     "exception": false,
     "start_time": "2024-03-01T12:21:01.688889",
     "status": "completed"
    },
    "tags": []
   },
   "source": [
    "### Importing Required Libraries"
   ]
  },
  {
   "cell_type": "code",
   "execution_count": 2,
   "id": "6aebf610",
   "metadata": {
    "execution": {
     "iopub.execute_input": "2024-03-01T12:21:01.733270Z",
     "iopub.status.busy": "2024-03-01T12:21:01.732820Z",
     "iopub.status.idle": "2024-03-01T12:21:01.780930Z",
     "shell.execute_reply": "2024-03-01T12:21:01.779093Z"
    },
    "papermill": {
     "duration": 0.066431,
     "end_time": "2024-03-01T12:21:01.783790",
     "exception": false,
     "start_time": "2024-03-01T12:21:01.717359",
     "status": "completed"
    },
    "tags": []
   },
   "outputs": [],
   "source": [
    "# You can also use this section to suppress warnings generated by your code:\n",
    "def warn(*args, **kwargs):\n",
    "    pass\n",
    "import warnings\n",
    "warnings.warn = warn\n",
    "warnings.filterwarnings('ignore')\n",
    "\n",
    "# FindSpark simplifies the process of using Apache Spark with Python\n",
    "\n",
    "import findspark\n",
    "findspark.init()"
   ]
  },
  {
   "cell_type": "markdown",
   "id": "ac0e85de",
   "metadata": {
    "papermill": {
     "duration": 0.013681,
     "end_time": "2024-03-01T12:21:01.811110",
     "exception": false,
     "start_time": "2024-03-01T12:21:01.797429",
     "status": "completed"
    },
    "tags": []
   },
   "source": [
    "## Part 1 - Perform ETL activity\n"
   ]
  },
  {
   "cell_type": "markdown",
   "id": "805302dd",
   "metadata": {
    "papermill": {
     "duration": 0.01372,
     "end_time": "2024-03-01T12:21:01.840567",
     "exception": false,
     "start_time": "2024-03-01T12:21:01.826847",
     "status": "completed"
    },
    "tags": []
   },
   "source": [
    "### Task 1 - Import required libraries\n"
   ]
  },
  {
   "cell_type": "code",
   "execution_count": 3,
   "id": "5d2d361f",
   "metadata": {
    "execution": {
     "iopub.execute_input": "2024-03-01T12:21:01.874127Z",
     "iopub.status.busy": "2024-03-01T12:21:01.873150Z",
     "iopub.status.idle": "2024-03-01T12:21:02.454695Z",
     "shell.execute_reply": "2024-03-01T12:21:02.452594Z"
    },
    "papermill": {
     "duration": 0.601194,
     "end_time": "2024-03-01T12:21:02.457707",
     "exception": false,
     "start_time": "2024-03-01T12:21:01.856513",
     "status": "completed"
    },
    "tags": []
   },
   "outputs": [],
   "source": [
    "from pyspark.sql import SparkSession\n",
    "from pyspark.ml import Pipeline\n",
    "from pyspark.ml.pipeline import PipelineModel\n",
    "from pyspark.ml.feature import VectorAssembler\n",
    "from pyspark.ml.regression import LinearRegression\n",
    "from pyspark.ml.feature import StringIndexer\n",
    "from pyspark.ml.feature import StandardScaler\n",
    "from pyspark.ml.evaluation import RegressionEvaluator"
   ]
  },
  {
   "cell_type": "markdown",
   "id": "c19dbaba",
   "metadata": {
    "papermill": {
     "duration": 0.015515,
     "end_time": "2024-03-01T12:21:02.488564",
     "exception": false,
     "start_time": "2024-03-01T12:21:02.473049",
     "status": "completed"
    },
    "tags": []
   },
   "source": [
    "### Task 2 - Create a spark session\n"
   ]
  },
  {
   "cell_type": "code",
   "execution_count": 4,
   "id": "c9d62e45",
   "metadata": {
    "execution": {
     "iopub.execute_input": "2024-03-01T12:21:02.520462Z",
     "iopub.status.busy": "2024-03-01T12:21:02.520043Z",
     "iopub.status.idle": "2024-03-01T12:21:09.213144Z",
     "shell.execute_reply": "2024-03-01T12:21:09.211851Z"
    },
    "papermill": {
     "duration": 6.712869,
     "end_time": "2024-03-01T12:21:09.216482",
     "exception": false,
     "start_time": "2024-03-01T12:21:02.503613",
     "status": "completed"
    },
    "tags": []
   },
   "outputs": [
    {
     "name": "stderr",
     "output_type": "stream",
     "text": [
      "WARNING: An illegal reflective access operation has occurred\n",
      "WARNING: Illegal reflective access by org.apache.spark.unsafe.Platform (file:/opt/conda/lib/python3.10/site-packages/pyspark/jars/spark-unsafe_2.12-3.1.2.jar) to constructor java.nio.DirectByteBuffer(long,int)\n",
      "WARNING: Please consider reporting this to the maintainers of org.apache.spark.unsafe.Platform\n",
      "WARNING: Use --illegal-access=warn to enable warnings of further illegal reflective access operations\n",
      "WARNING: All illegal access operations will be denied in a future release\n",
      "24/03/01 12:21:05 WARN NativeCodeLoader: Unable to load native-hadoop library for your platform... using builtin-java classes where applicable\n",
      "Using Spark's default log4j profile: org/apache/spark/log4j-defaults.properties\n",
      "Setting default log level to \"WARN\".\n",
      "To adjust logging level use sc.setLogLevel(newLevel). For SparkR, use setLogLevel(newLevel).\n"
     ]
    }
   ],
   "source": [
    "#Create a SparkSession\n",
    "\n",
    "spark = SparkSession.builder.appName(\"Airfoil noise prediction\").getOrCreate()"
   ]
  },
  {
   "cell_type": "markdown",
   "id": "d28bb8f5",
   "metadata": {
    "papermill": {
     "duration": 0.014165,
     "end_time": "2024-03-01T12:21:09.244825",
     "exception": false,
     "start_time": "2024-03-01T12:21:09.230660",
     "status": "completed"
    },
    "tags": []
   },
   "source": [
    "### Task 3 - Load the csv file into a dataframe\n"
   ]
  },
  {
   "cell_type": "markdown",
   "id": "56aef6ff",
   "metadata": {
    "papermill": {
     "duration": 0.081106,
     "end_time": "2024-03-01T12:21:09.340914",
     "exception": false,
     "start_time": "2024-03-01T12:21:09.259808",
     "status": "completed"
    },
    "tags": []
   },
   "source": [
    "Load the dataset into the spark dataframe"
   ]
  },
  {
   "cell_type": "code",
   "execution_count": 5,
   "id": "4c2bf416",
   "metadata": {
    "execution": {
     "iopub.execute_input": "2024-03-01T12:21:09.371366Z",
     "iopub.status.busy": "2024-03-01T12:21:09.370501Z",
     "iopub.status.idle": "2024-03-01T12:21:15.425052Z",
     "shell.execute_reply": "2024-03-01T12:21:15.423788Z"
    },
    "papermill": {
     "duration": 6.074814,
     "end_time": "2024-03-01T12:21:15.429977",
     "exception": false,
     "start_time": "2024-03-01T12:21:09.355163",
     "status": "completed"
    },
    "tags": []
   },
   "outputs": [
    {
     "name": "stderr",
     "output_type": "stream",
     "text": [
      "                                                                                \r"
     ]
    }
   ],
   "source": [
    "df = spark.read.csv(\"/kaggle/input/nasa-airfoil-noise-raw/NASA_airfoil_noise_raw.csv\", header=True, inferSchema=True)\n"
   ]
  },
  {
   "cell_type": "markdown",
   "id": "2400d2a8",
   "metadata": {
    "papermill": {
     "duration": 0.020347,
     "end_time": "2024-03-01T12:21:15.473979",
     "exception": false,
     "start_time": "2024-03-01T12:21:15.453632",
     "status": "completed"
    },
    "tags": []
   },
   "source": [
    "### Task 4 - Print top 5 rows of the dataset\n"
   ]
  },
  {
   "cell_type": "code",
   "execution_count": 6,
   "id": "7f3e3721",
   "metadata": {
    "execution": {
     "iopub.execute_input": "2024-03-01T12:21:15.510457Z",
     "iopub.status.busy": "2024-03-01T12:21:15.509904Z",
     "iopub.status.idle": "2024-03-01T12:21:15.981013Z",
     "shell.execute_reply": "2024-03-01T12:21:15.979815Z"
    },
    "papermill": {
     "duration": 0.492809,
     "end_time": "2024-03-01T12:21:15.984165",
     "exception": false,
     "start_time": "2024-03-01T12:21:15.491356",
     "status": "completed"
    },
    "tags": []
   },
   "outputs": [
    {
     "name": "stdout",
     "output_type": "stream",
     "text": [
      "+---------+-------------+-----------+------------------+-----------------------+----------+\n",
      "|Frequency|AngleOfAttack|ChordLength|FreeStreamVelocity|SuctionSideDisplacement|SoundLevel|\n",
      "+---------+-------------+-----------+------------------+-----------------------+----------+\n",
      "|      800|          0.0|     0.3048|              71.3|             0.00266337|   126.201|\n",
      "|     1000|          0.0|     0.3048|              71.3|             0.00266337|   125.201|\n",
      "|     1250|          0.0|     0.3048|              71.3|             0.00266337|   125.951|\n",
      "|     1600|          0.0|     0.3048|              71.3|             0.00266337|   127.591|\n",
      "|     2000|          0.0|     0.3048|              71.3|             0.00266337|   127.461|\n",
      "+---------+-------------+-----------+------------------+-----------------------+----------+\n",
      "only showing top 5 rows\n",
      "\n"
     ]
    }
   ],
   "source": [
    "df.show(5)"
   ]
  },
  {
   "cell_type": "markdown",
   "id": "5938b55a",
   "metadata": {
    "papermill": {
     "duration": 0.023618,
     "end_time": "2024-03-01T12:21:16.032143",
     "exception": false,
     "start_time": "2024-03-01T12:21:16.008525",
     "status": "completed"
    },
    "tags": []
   },
   "source": [
    "### Task 6 - Print the total number of rows in the dataset\n"
   ]
  },
  {
   "cell_type": "code",
   "execution_count": 7,
   "id": "925dccfc",
   "metadata": {
    "execution": {
     "iopub.execute_input": "2024-03-01T12:21:16.071783Z",
     "iopub.status.busy": "2024-03-01T12:21:16.071289Z",
     "iopub.status.idle": "2024-03-01T12:21:16.903867Z",
     "shell.execute_reply": "2024-03-01T12:21:16.902663Z"
    },
    "papermill": {
     "duration": 0.854024,
     "end_time": "2024-03-01T12:21:16.908076",
     "exception": false,
     "start_time": "2024-03-01T12:21:16.054052",
     "status": "completed"
    },
    "tags": []
   },
   "outputs": [
    {
     "name": "stdout",
     "output_type": "stream",
     "text": [
      "1522\n"
     ]
    }
   ],
   "source": [
    "rowcount1 = df.count()\n",
    "print(rowcount1)"
   ]
  },
  {
   "cell_type": "markdown",
   "id": "3c822d46",
   "metadata": {
    "papermill": {
     "duration": 0.024247,
     "end_time": "2024-03-01T12:21:16.955621",
     "exception": false,
     "start_time": "2024-03-01T12:21:16.931374",
     "status": "completed"
    },
    "tags": []
   },
   "source": [
    "### Task 7 - Drop all the duplicate rows from the dataset\n"
   ]
  },
  {
   "cell_type": "code",
   "execution_count": 8,
   "id": "3842eda7",
   "metadata": {
    "execution": {
     "iopub.execute_input": "2024-03-01T12:21:16.994017Z",
     "iopub.status.busy": "2024-03-01T12:21:16.993540Z",
     "iopub.status.idle": "2024-03-01T12:21:17.014480Z",
     "shell.execute_reply": "2024-03-01T12:21:17.013187Z"
    },
    "papermill": {
     "duration": 0.041441,
     "end_time": "2024-03-01T12:21:17.017972",
     "exception": false,
     "start_time": "2024-03-01T12:21:16.976531",
     "status": "completed"
    },
    "tags": []
   },
   "outputs": [],
   "source": [
    "df = df.dropDuplicates()"
   ]
  },
  {
   "cell_type": "markdown",
   "id": "0916e7ae",
   "metadata": {
    "papermill": {
     "duration": 0.021344,
     "end_time": "2024-03-01T12:21:17.062651",
     "exception": false,
     "start_time": "2024-03-01T12:21:17.041307",
     "status": "completed"
    },
    "tags": []
   },
   "source": [
    "### Task 8 - Print the total number of rows in the dataset\n"
   ]
  },
  {
   "cell_type": "code",
   "execution_count": 9,
   "id": "fbcef31b",
   "metadata": {
    "execution": {
     "iopub.execute_input": "2024-03-01T12:21:17.099499Z",
     "iopub.status.busy": "2024-03-01T12:21:17.099104Z",
     "iopub.status.idle": "2024-03-01T12:21:20.763470Z",
     "shell.execute_reply": "2024-03-01T12:21:20.762074Z"
    },
    "papermill": {
     "duration": 3.691761,
     "end_time": "2024-03-01T12:21:20.771021",
     "exception": false,
     "start_time": "2024-03-01T12:21:17.079260",
     "status": "completed"
    },
    "tags": []
   },
   "outputs": [
    {
     "name": "stderr",
     "output_type": "stream",
     "text": [
      "[Stage 6:=============================================>         (166 + 5) / 200]\r"
     ]
    },
    {
     "name": "stdout",
     "output_type": "stream",
     "text": [
      "1503\n"
     ]
    },
    {
     "name": "stderr",
     "output_type": "stream",
     "text": [
      "                                                                                \r"
     ]
    }
   ],
   "source": [
    "rowcount2 = df.count()\n",
    "print(rowcount2)\n"
   ]
  },
  {
   "cell_type": "markdown",
   "id": "70598a7f",
   "metadata": {
    "papermill": {
     "duration": 0.015498,
     "end_time": "2024-03-01T12:21:20.807311",
     "exception": false,
     "start_time": "2024-03-01T12:21:20.791813",
     "status": "completed"
    },
    "tags": []
   },
   "source": [
    "### Task 9 - Drop all the rows that contain null values from the dataset\n"
   ]
  },
  {
   "cell_type": "code",
   "execution_count": 10,
   "id": "55313806",
   "metadata": {
    "execution": {
     "iopub.execute_input": "2024-03-01T12:21:20.855308Z",
     "iopub.status.busy": "2024-03-01T12:21:20.854776Z",
     "iopub.status.idle": "2024-03-01T12:21:20.927320Z",
     "shell.execute_reply": "2024-03-01T12:21:20.925998Z"
    },
    "papermill": {
     "duration": 0.107618,
     "end_time": "2024-03-01T12:21:20.931530",
     "exception": false,
     "start_time": "2024-03-01T12:21:20.823912",
     "status": "completed"
    },
    "tags": []
   },
   "outputs": [],
   "source": [
    "df = df.dropna()"
   ]
  },
  {
   "cell_type": "markdown",
   "id": "fc90cc67",
   "metadata": {
    "papermill": {
     "duration": 0.030956,
     "end_time": "2024-03-01T12:21:20.988620",
     "exception": false,
     "start_time": "2024-03-01T12:21:20.957664",
     "status": "completed"
    },
    "tags": []
   },
   "source": [
    "### Task 10 - Print the total number of rows in the dataset\n"
   ]
  },
  {
   "cell_type": "code",
   "execution_count": 11,
   "id": "434104f8",
   "metadata": {
    "execution": {
     "iopub.execute_input": "2024-03-01T12:21:21.045080Z",
     "iopub.status.busy": "2024-03-01T12:21:21.044228Z",
     "iopub.status.idle": "2024-03-01T12:21:23.257354Z",
     "shell.execute_reply": "2024-03-01T12:21:23.255475Z"
    },
    "papermill": {
     "duration": 2.250707,
     "end_time": "2024-03-01T12:21:23.265337",
     "exception": false,
     "start_time": "2024-03-01T12:21:21.014630",
     "status": "completed"
    },
    "tags": []
   },
   "outputs": [
    {
     "name": "stderr",
     "output_type": "stream",
     "text": [
      "[Stage 9:==============================================>        (169 + 4) / 200]\r"
     ]
    },
    {
     "name": "stdout",
     "output_type": "stream",
     "text": [
      "1499\n"
     ]
    },
    {
     "name": "stderr",
     "output_type": "stream",
     "text": [
      "                                                                                \r"
     ]
    }
   ],
   "source": [
    "rowcount3 =df.count()\n",
    "print(rowcount3)"
   ]
  },
  {
   "cell_type": "markdown",
   "id": "3a369e08",
   "metadata": {
    "papermill": {
     "duration": 0.030498,
     "end_time": "2024-03-01T12:21:23.323135",
     "exception": false,
     "start_time": "2024-03-01T12:21:23.292637",
     "status": "completed"
    },
    "tags": []
   },
   "source": [
    "### Task 11 - Rename the column \"SoundLevel\" to \"SoundLevelDecibels\"Drop\n"
   ]
  },
  {
   "cell_type": "code",
   "execution_count": 12,
   "id": "1b855938",
   "metadata": {
    "execution": {
     "iopub.execute_input": "2024-03-01T12:21:23.372491Z",
     "iopub.status.busy": "2024-03-01T12:21:23.371992Z",
     "iopub.status.idle": "2024-03-01T12:21:23.389126Z",
     "shell.execute_reply": "2024-03-01T12:21:23.387596Z"
    },
    "papermill": {
     "duration": 0.046539,
     "end_time": "2024-03-01T12:21:23.393286",
     "exception": false,
     "start_time": "2024-03-01T12:21:23.346747",
     "status": "completed"
    },
    "tags": []
   },
   "outputs": [],
   "source": [
    "df = df.withColumnRenamed(\"SoundLevel\",\"SoundLevelDecibels\")"
   ]
  },
  {
   "cell_type": "markdown",
   "id": "e86ef65d",
   "metadata": {
    "papermill": {
     "duration": 0.026788,
     "end_time": "2024-03-01T12:21:23.450299",
     "exception": false,
     "start_time": "2024-03-01T12:21:23.423511",
     "status": "completed"
    },
    "tags": []
   },
   "source": [
    "### Task 12 - Save the dataframe in parquet formant, name the file as \"NASA_airfoil_noise_cleaned.parquet\"\n"
   ]
  },
  {
   "cell_type": "code",
   "execution_count": 13,
   "id": "8be54e41",
   "metadata": {
    "execution": {
     "iopub.execute_input": "2024-03-01T12:21:23.514558Z",
     "iopub.status.busy": "2024-03-01T12:21:23.514007Z",
     "iopub.status.idle": "2024-03-01T12:21:31.138111Z",
     "shell.execute_reply": "2024-03-01T12:21:31.136763Z"
    },
    "papermill": {
     "duration": 7.662229,
     "end_time": "2024-03-01T12:21:31.141532",
     "exception": false,
     "start_time": "2024-03-01T12:21:23.479303",
     "status": "completed"
    },
    "tags": []
   },
   "outputs": [
    {
     "name": "stderr",
     "output_type": "stream",
     "text": [
      "                                                                                \r"
     ]
    }
   ],
   "source": [
    "df.write.parquet(\"NASA_airfoil_noise_cleaned.parquet\")"
   ]
  },
  {
   "cell_type": "markdown",
   "id": "ecdea387",
   "metadata": {
    "papermill": {
     "duration": 0.01828,
     "end_time": "2024-03-01T12:21:31.177220",
     "exception": false,
     "start_time": "2024-03-01T12:21:31.158940",
     "status": "completed"
    },
    "tags": []
   },
   "source": [
    "## Part - 2 Create a  Machine Learning Pipeline\n"
   ]
  },
  {
   "cell_type": "markdown",
   "id": "74d0a8bf",
   "metadata": {
    "papermill": {
     "duration": 0.020132,
     "end_time": "2024-03-01T12:21:31.217576",
     "exception": false,
     "start_time": "2024-03-01T12:21:31.197444",
     "status": "completed"
    },
    "tags": []
   },
   "source": [
    "### Task 1 - Load data from \"NASA_airfoil_noise_cleaned.parquet\" into a dataframe\n"
   ]
  },
  {
   "cell_type": "code",
   "execution_count": 14,
   "id": "f4dba512",
   "metadata": {
    "execution": {
     "iopub.execute_input": "2024-03-01T12:21:31.255530Z",
     "iopub.status.busy": "2024-03-01T12:21:31.255096Z",
     "iopub.status.idle": "2024-03-01T12:21:31.473651Z",
     "shell.execute_reply": "2024-03-01T12:21:31.471865Z"
    },
    "papermill": {
     "duration": 0.241922,
     "end_time": "2024-03-01T12:21:31.477531",
     "exception": false,
     "start_time": "2024-03-01T12:21:31.235609",
     "status": "completed"
    },
    "tags": []
   },
   "outputs": [],
   "source": [
    "df = spark.read.parquet(\"NASA_airfoil_noise_cleaned.parquet\")"
   ]
  },
  {
   "cell_type": "markdown",
   "id": "4b389859",
   "metadata": {
    "papermill": {
     "duration": 0.017361,
     "end_time": "2024-03-01T12:21:31.514911",
     "exception": false,
     "start_time": "2024-03-01T12:21:31.497550",
     "status": "completed"
    },
    "tags": []
   },
   "source": [
    "### Task 2 - Print the total number of rows in the dataset\n"
   ]
  },
  {
   "cell_type": "code",
   "execution_count": 15,
   "id": "b4df3270",
   "metadata": {
    "execution": {
     "iopub.execute_input": "2024-03-01T12:21:31.552146Z",
     "iopub.status.busy": "2024-03-01T12:21:31.551695Z",
     "iopub.status.idle": "2024-03-01T12:21:32.357145Z",
     "shell.execute_reply": "2024-03-01T12:21:32.355901Z"
    },
    "papermill": {
     "duration": 0.834076,
     "end_time": "2024-03-01T12:21:32.367627",
     "exception": false,
     "start_time": "2024-03-01T12:21:31.533551",
     "status": "completed"
    },
    "tags": []
   },
   "outputs": [
    {
     "name": "stdout",
     "output_type": "stream",
     "text": [
      "1499\n"
     ]
    },
    {
     "name": "stderr",
     "output_type": "stream",
     "text": [
      "                                                                                \r"
     ]
    }
   ],
   "source": [
    "rowcount4 = df.count()\n",
    "print(rowcount4)"
   ]
  },
  {
   "cell_type": "markdown",
   "id": "304af715",
   "metadata": {
    "papermill": {
     "duration": 0.016902,
     "end_time": "2024-03-01T12:21:32.418485",
     "exception": false,
     "start_time": "2024-03-01T12:21:32.401583",
     "status": "completed"
    },
    "tags": []
   },
   "source": [
    "### Task 3 - Define the VectorAssembler pipeline stage\n"
   ]
  },
  {
   "cell_type": "markdown",
   "id": "1c5f25e2",
   "metadata": {
    "papermill": {
     "duration": 0.021589,
     "end_time": "2024-03-01T12:21:32.461002",
     "exception": false,
     "start_time": "2024-03-01T12:21:32.439413",
     "status": "completed"
    },
    "tags": []
   },
   "source": [
    "Stage 1 - Assemble the input columns into a single column \"features\". Use all the columns except SoundLevelDecibels as input features.\n"
   ]
  },
  {
   "cell_type": "code",
   "execution_count": 16,
   "id": "2ece83e3",
   "metadata": {
    "execution": {
     "iopub.execute_input": "2024-03-01T12:21:32.501606Z",
     "iopub.status.busy": "2024-03-01T12:21:32.501202Z",
     "iopub.status.idle": "2024-03-01T12:21:32.532582Z",
     "shell.execute_reply": "2024-03-01T12:21:32.531209Z"
    },
    "papermill": {
     "duration": 0.054183,
     "end_time": "2024-03-01T12:21:32.536242",
     "exception": false,
     "start_time": "2024-03-01T12:21:32.482059",
     "status": "completed"
    },
    "tags": []
   },
   "outputs": [],
   "source": [
    "assembler = VectorAssembler(inputCols=[\"Frequency\",\"AngleOfAttack\",\"ChordLength\",\"FreeStreamVelocity\",\"SuctionSideDisplacement\"], outputCol=\"features\")"
   ]
  },
  {
   "cell_type": "markdown",
   "id": "d42dcf41",
   "metadata": {
    "papermill": {
     "duration": 0.017849,
     "end_time": "2024-03-01T12:21:32.573087",
     "exception": false,
     "start_time": "2024-03-01T12:21:32.555238",
     "status": "completed"
    },
    "tags": []
   },
   "source": [
    "### Task 4 - Define the StandardScaler pipeline stage\n"
   ]
  },
  {
   "cell_type": "markdown",
   "id": "d5c8522a",
   "metadata": {
    "papermill": {
     "duration": 0.017849,
     "end_time": "2024-03-01T12:21:32.611496",
     "exception": false,
     "start_time": "2024-03-01T12:21:32.593647",
     "status": "completed"
    },
    "tags": []
   },
   "source": [
    "Stage 2 - Scale the \"features\" using standard scaler and store in \"scaledFeatures\" column\n"
   ]
  },
  {
   "cell_type": "code",
   "execution_count": 17,
   "id": "2fb5099a",
   "metadata": {
    "execution": {
     "iopub.execute_input": "2024-03-01T12:21:32.649357Z",
     "iopub.status.busy": "2024-03-01T12:21:32.648540Z",
     "iopub.status.idle": "2024-03-01T12:21:32.667630Z",
     "shell.execute_reply": "2024-03-01T12:21:32.666604Z"
    },
    "papermill": {
     "duration": 0.04249,
     "end_time": "2024-03-01T12:21:32.670370",
     "exception": false,
     "start_time": "2024-03-01T12:21:32.627880",
     "status": "completed"
    },
    "tags": []
   },
   "outputs": [],
   "source": [
    "scaler = StandardScaler(inputCol=\"features\", outputCol=\"scaledFeatures\", withStd=True, withMean=True)"
   ]
  },
  {
   "cell_type": "markdown",
   "id": "32ebb053",
   "metadata": {
    "papermill": {
     "duration": 0.016926,
     "end_time": "2024-03-01T12:21:32.704837",
     "exception": false,
     "start_time": "2024-03-01T12:21:32.687911",
     "status": "completed"
    },
    "tags": []
   },
   "source": [
    "### Task 5 - Define the StandardScaler pipeline stage\n"
   ]
  },
  {
   "cell_type": "markdown",
   "id": "0820e818",
   "metadata": {
    "papermill": {
     "duration": 0.021005,
     "end_time": "2024-03-01T12:21:32.744684",
     "exception": false,
     "start_time": "2024-03-01T12:21:32.723679",
     "status": "completed"
    },
    "tags": []
   },
   "source": [
    "Stage 3 - Create a LinearRegression stage to predict \"SoundLevelDecibels\"\n",
    "\n",
    "**Note:You need to use the scaledfeatures retreived in the previous step.**\n"
   ]
  },
  {
   "cell_type": "code",
   "execution_count": 18,
   "id": "8e55a931",
   "metadata": {
    "execution": {
     "iopub.execute_input": "2024-03-01T12:21:32.782797Z",
     "iopub.status.busy": "2024-03-01T12:21:32.782314Z",
     "iopub.status.idle": "2024-03-01T12:21:32.840352Z",
     "shell.execute_reply": "2024-03-01T12:21:32.838219Z"
    },
    "papermill": {
     "duration": 0.07952,
     "end_time": "2024-03-01T12:21:32.843471",
     "exception": false,
     "start_time": "2024-03-01T12:21:32.763951",
     "status": "completed"
    },
    "tags": []
   },
   "outputs": [],
   "source": [
    "lr = LinearRegression(featuresCol='scaledFeatures', labelCol='SoundLevelDecibels', predictionCol='prediction')"
   ]
  },
  {
   "cell_type": "markdown",
   "id": "829e49cb",
   "metadata": {
    "papermill": {
     "duration": 0.018603,
     "end_time": "2024-03-01T12:21:32.880211",
     "exception": false,
     "start_time": "2024-03-01T12:21:32.861608",
     "status": "completed"
    },
    "tags": []
   },
   "source": [
    "### Task 6 - Build the pipeline\n"
   ]
  },
  {
   "cell_type": "markdown",
   "id": "9c1e9802",
   "metadata": {
    "papermill": {
     "duration": 0.019808,
     "end_time": "2024-03-01T12:21:32.920780",
     "exception": false,
     "start_time": "2024-03-01T12:21:32.900972",
     "status": "completed"
    },
    "tags": []
   },
   "source": [
    "Build a pipeline using the above three stages\n"
   ]
  },
  {
   "cell_type": "code",
   "execution_count": 19,
   "id": "79f2f664",
   "metadata": {
    "execution": {
     "iopub.execute_input": "2024-03-01T12:21:32.959200Z",
     "iopub.status.busy": "2024-03-01T12:21:32.958576Z",
     "iopub.status.idle": "2024-03-01T12:21:32.964825Z",
     "shell.execute_reply": "2024-03-01T12:21:32.963525Z"
    },
    "papermill": {
     "duration": 0.028297,
     "end_time": "2024-03-01T12:21:32.967650",
     "exception": false,
     "start_time": "2024-03-01T12:21:32.939353",
     "status": "completed"
    },
    "tags": []
   },
   "outputs": [],
   "source": [
    "pipeline =pipeline = Pipeline(stages=[assembler, scaler, lr])"
   ]
  },
  {
   "cell_type": "markdown",
   "id": "da8f9ac6",
   "metadata": {
    "papermill": {
     "duration": 0.017033,
     "end_time": "2024-03-01T12:21:33.003799",
     "exception": false,
     "start_time": "2024-03-01T12:21:32.986766",
     "status": "completed"
    },
    "tags": []
   },
   "source": [
    "### Task 7 - Split the data\n"
   ]
  },
  {
   "cell_type": "code",
   "execution_count": 20,
   "id": "775822d5",
   "metadata": {
    "execution": {
     "iopub.execute_input": "2024-03-01T12:21:33.045906Z",
     "iopub.status.busy": "2024-03-01T12:21:33.045459Z",
     "iopub.status.idle": "2024-03-01T12:21:33.088470Z",
     "shell.execute_reply": "2024-03-01T12:21:33.086786Z"
    },
    "papermill": {
     "duration": 0.070156,
     "end_time": "2024-03-01T12:21:33.091381",
     "exception": false,
     "start_time": "2024-03-01T12:21:33.021225",
     "status": "completed"
    },
    "tags": []
   },
   "outputs": [],
   "source": [
    "# Split the data into training and testing sets with 70:30 split.\n",
    "# set the value of seed to 42\n",
    "# the above step is very important. DO NOT set the value of seed to any other value other than 42.\n",
    "\n",
    "(trainingData, testingData) = df.randomSplit([0.7, 0.3], seed=42)\n"
   ]
  },
  {
   "cell_type": "markdown",
   "id": "e06793f5",
   "metadata": {
    "papermill": {
     "duration": 0.018794,
     "end_time": "2024-03-01T12:21:33.129966",
     "exception": false,
     "start_time": "2024-03-01T12:21:33.111172",
     "status": "completed"
    },
    "tags": []
   },
   "source": [
    "### Task 8 - Fit the pipeline\n"
   ]
  },
  {
   "cell_type": "code",
   "execution_count": 21,
   "id": "bcdca23f",
   "metadata": {
    "execution": {
     "iopub.execute_input": "2024-03-01T12:21:33.169481Z",
     "iopub.status.busy": "2024-03-01T12:21:33.168607Z",
     "iopub.status.idle": "2024-03-01T12:21:37.769087Z",
     "shell.execute_reply": "2024-03-01T12:21:37.767448Z"
    },
    "papermill": {
     "duration": 4.625161,
     "end_time": "2024-03-01T12:21:37.772767",
     "exception": false,
     "start_time": "2024-03-01T12:21:33.147606",
     "status": "completed"
    },
    "tags": []
   },
   "outputs": [
    {
     "name": "stderr",
     "output_type": "stream",
     "text": [
      "24/03/01 12:21:35 WARN Instrumentation: [b11d2128] regParam is zero, which might cause numerical instability and overfitting.\n",
      "24/03/01 12:21:36 WARN BLAS: Failed to load implementation from: com.github.fommil.netlib.NativeSystemBLAS\n",
      "24/03/01 12:21:36 WARN BLAS: Failed to load implementation from: com.github.fommil.netlib.NativeRefBLAS\n",
      "24/03/01 12:21:36 WARN LAPACK: Failed to load implementation from: com.github.fommil.netlib.NativeSystemLAPACK\n",
      "24/03/01 12:21:36 WARN LAPACK: Failed to load implementation from: com.github.fommil.netlib.NativeRefLAPACK\n",
      "                                                                                \r"
     ]
    }
   ],
   "source": [
    "# Fit the pipeline using the training data\n",
    "\n",
    "pipelineModel =pipeline.fit(trainingData)\n"
   ]
  },
  {
   "cell_type": "markdown",
   "id": "91095766",
   "metadata": {
    "papermill": {
     "duration": 0.01707,
     "end_time": "2024-03-01T12:21:37.809975",
     "exception": false,
     "start_time": "2024-03-01T12:21:37.792905",
     "status": "completed"
    },
    "tags": []
   },
   "source": [
    "## Part 3 - Evaluate the Model\n"
   ]
  },
  {
   "cell_type": "markdown",
   "id": "312d99a3",
   "metadata": {
    "papermill": {
     "duration": 0.018514,
     "end_time": "2024-03-01T12:21:37.850167",
     "exception": false,
     "start_time": "2024-03-01T12:21:37.831653",
     "status": "completed"
    },
    "tags": []
   },
   "source": [
    "### Task 1 - Predict using the model\n"
   ]
  },
  {
   "cell_type": "code",
   "execution_count": 22,
   "id": "80e18ca3",
   "metadata": {
    "execution": {
     "iopub.execute_input": "2024-03-01T12:21:37.892555Z",
     "iopub.status.busy": "2024-03-01T12:21:37.891482Z",
     "iopub.status.idle": "2024-03-01T12:21:38.012967Z",
     "shell.execute_reply": "2024-03-01T12:21:38.011610Z"
    },
    "papermill": {
     "duration": 0.145948,
     "end_time": "2024-03-01T12:21:38.016263",
     "exception": false,
     "start_time": "2024-03-01T12:21:37.870315",
     "status": "completed"
    },
    "tags": []
   },
   "outputs": [],
   "source": [
    "# Make predictions on testing data\n",
    "predictions =pipelineModel.transform(testingData)\n"
   ]
  },
  {
   "cell_type": "markdown",
   "id": "9418bd79",
   "metadata": {
    "papermill": {
     "duration": 0.025188,
     "end_time": "2024-03-01T12:21:38.070091",
     "exception": false,
     "start_time": "2024-03-01T12:21:38.044903",
     "status": "completed"
    },
    "tags": []
   },
   "source": [
    "### Task 2 - Print the MSE\n"
   ]
  },
  {
   "cell_type": "code",
   "execution_count": 23,
   "id": "7559fd3a",
   "metadata": {
    "execution": {
     "iopub.execute_input": "2024-03-01T12:21:38.110760Z",
     "iopub.status.busy": "2024-03-01T12:21:38.110318Z",
     "iopub.status.idle": "2024-03-01T12:21:38.879466Z",
     "shell.execute_reply": "2024-03-01T12:21:38.878070Z"
    },
    "papermill": {
     "duration": 0.792648,
     "end_time": "2024-03-01T12:21:38.883455",
     "exception": false,
     "start_time": "2024-03-01T12:21:38.090807",
     "status": "completed"
    },
    "tags": []
   },
   "outputs": [
    {
     "name": "stdout",
     "output_type": "stream",
     "text": [
      "Mean Squared Error =  25.01\n"
     ]
    }
   ],
   "source": [
    "evaluator = RegressionEvaluator(labelCol=\"SoundLevelDecibels\", predictionCol=\"prediction\", metricName=\"mse\")\n",
    "mse = evaluator.evaluate(predictions)\n",
    "\n",
    "print(\"Mean Squared Error = \", round(mse,2))"
   ]
  },
  {
   "cell_type": "markdown",
   "id": "1ea542c8",
   "metadata": {
    "papermill": {
     "duration": 0.024441,
     "end_time": "2024-03-01T12:21:38.936655",
     "exception": false,
     "start_time": "2024-03-01T12:21:38.912214",
     "status": "completed"
    },
    "tags": []
   },
   "source": [
    "### Task 3 - Print the MAE\n"
   ]
  },
  {
   "cell_type": "code",
   "execution_count": 24,
   "id": "5e350582",
   "metadata": {
    "execution": {
     "iopub.execute_input": "2024-03-01T12:21:38.975097Z",
     "iopub.status.busy": "2024-03-01T12:21:38.974652Z",
     "iopub.status.idle": "2024-03-01T12:21:39.659355Z",
     "shell.execute_reply": "2024-03-01T12:21:39.658022Z"
    },
    "papermill": {
     "duration": 0.707349,
     "end_time": "2024-03-01T12:21:39.662586",
     "exception": false,
     "start_time": "2024-03-01T12:21:38.955237",
     "status": "completed"
    },
    "tags": []
   },
   "outputs": [
    {
     "name": "stdout",
     "output_type": "stream",
     "text": [
      "Mean Absolute Error = 3.87\n"
     ]
    }
   ],
   "source": [
    "evaluator = RegressionEvaluator(labelCol=\"SoundLevelDecibels\", predictionCol=\"prediction\", metricName=\"mae\")\n",
    "mae = evaluator.evaluate(predictions)\n",
    "\n",
    "print(\"Mean Absolute Error =\", round(mae, 2))\n"
   ]
  },
  {
   "cell_type": "markdown",
   "id": "23b2c032",
   "metadata": {
    "papermill": {
     "duration": 0.031087,
     "end_time": "2024-03-01T12:21:39.721698",
     "exception": false,
     "start_time": "2024-03-01T12:21:39.690611",
     "status": "completed"
    },
    "tags": []
   },
   "source": [
    "### Task 4 - Print the R-Squared(R2)\n"
   ]
  },
  {
   "cell_type": "code",
   "execution_count": 25,
   "id": "711c4849",
   "metadata": {
    "execution": {
     "iopub.execute_input": "2024-03-01T12:21:39.775522Z",
     "iopub.status.busy": "2024-03-01T12:21:39.775117Z",
     "iopub.status.idle": "2024-03-01T12:21:40.457482Z",
     "shell.execute_reply": "2024-03-01T12:21:40.456159Z"
    },
    "papermill": {
     "duration": 0.713445,
     "end_time": "2024-03-01T12:21:40.462841",
     "exception": false,
     "start_time": "2024-03-01T12:21:39.749396",
     "status": "completed"
    },
    "tags": []
   },
   "outputs": [
    {
     "name": "stdout",
     "output_type": "stream",
     "text": [
      "R Squared = 0.51\n"
     ]
    }
   ],
   "source": [
    "evaluator = RegressionEvaluator(labelCol=\"SoundLevelDecibels\", predictionCol=\"prediction\", metricName=\"r2\")\n",
    "r2 = evaluator.evaluate(predictions)\n",
    "\n",
    "print(\"R Squared =\", round(r2, 2))\n"
   ]
  },
  {
   "cell_type": "markdown",
   "id": "ea2f4315",
   "metadata": {
    "papermill": {
     "duration": 0.024958,
     "end_time": "2024-03-01T12:21:40.517773",
     "exception": false,
     "start_time": "2024-03-01T12:21:40.492815",
     "status": "completed"
    },
    "tags": []
   },
   "source": [
    "## Part 4 - Persist the Model\n"
   ]
  },
  {
   "cell_type": "markdown",
   "id": "cc06c2c3",
   "metadata": {
    "papermill": {
     "duration": 0.020437,
     "end_time": "2024-03-01T12:21:40.556010",
     "exception": false,
     "start_time": "2024-03-01T12:21:40.535573",
     "status": "completed"
    },
    "tags": []
   },
   "source": [
    "### Task 1 - Save the model to the path \"ML_model\"\n"
   ]
  },
  {
   "cell_type": "code",
   "execution_count": 26,
   "id": "60857dfe",
   "metadata": {
    "execution": {
     "iopub.execute_input": "2024-03-01T12:21:40.594824Z",
     "iopub.status.busy": "2024-03-01T12:21:40.594342Z",
     "iopub.status.idle": "2024-03-01T12:21:41.615509Z",
     "shell.execute_reply": "2024-03-01T12:21:41.614178Z"
    },
    "papermill": {
     "duration": 1.045799,
     "end_time": "2024-03-01T12:21:41.619785",
     "exception": false,
     "start_time": "2024-03-01T12:21:40.573986",
     "status": "completed"
    },
    "tags": []
   },
   "outputs": [],
   "source": [
    "# Save the pipeline model as \"ML_model\"\n",
    "model_path = \"ML_model\"\n",
    "pipelineModel.write().overwrite().save(model_path)"
   ]
  },
  {
   "cell_type": "markdown",
   "id": "3159fa06",
   "metadata": {
    "papermill": {
     "duration": 0.020206,
     "end_time": "2024-03-01T12:21:41.665985",
     "exception": false,
     "start_time": "2024-03-01T12:21:41.645779",
     "status": "completed"
    },
    "tags": []
   },
   "source": [
    "### Task 2 - Load the model from the path \"Final_Project\"\n"
   ]
  },
  {
   "cell_type": "code",
   "execution_count": 27,
   "id": "a05fb36a",
   "metadata": {
    "execution": {
     "iopub.execute_input": "2024-03-01T12:21:41.709621Z",
     "iopub.status.busy": "2024-03-01T12:21:41.709142Z",
     "iopub.status.idle": "2024-03-01T12:21:44.305697Z",
     "shell.execute_reply": "2024-03-01T12:21:44.304681Z"
    },
    "papermill": {
     "duration": 2.622649,
     "end_time": "2024-03-01T12:21:44.308534",
     "exception": false,
     "start_time": "2024-03-01T12:21:41.685885",
     "status": "completed"
    },
    "tags": []
   },
   "outputs": [
    {
     "name": "stderr",
     "output_type": "stream",
     "text": [
      "                                                                                \r"
     ]
    }
   ],
   "source": [
    "# Load the pipeline model you have created in the previous step\n",
    "loadedPipelineModel = PipelineModel.load(model_path)\n"
   ]
  },
  {
   "cell_type": "markdown",
   "id": "be69f6be",
   "metadata": {
    "papermill": {
     "duration": 0.0177,
     "end_time": "2024-03-01T12:21:44.346645",
     "exception": false,
     "start_time": "2024-03-01T12:21:44.328945",
     "status": "completed"
    },
    "tags": []
   },
   "source": [
    "### Task 3 - Make predictions using the loaded model on the testdata\n"
   ]
  },
  {
   "cell_type": "code",
   "execution_count": 28,
   "id": "3c05c2d2",
   "metadata": {
    "execution": {
     "iopub.execute_input": "2024-03-01T12:21:44.389159Z",
     "iopub.status.busy": "2024-03-01T12:21:44.388205Z",
     "iopub.status.idle": "2024-03-01T12:21:44.511036Z",
     "shell.execute_reply": "2024-03-01T12:21:44.509821Z"
    },
    "papermill": {
     "duration": 0.149165,
     "end_time": "2024-03-01T12:21:44.514452",
     "exception": false,
     "start_time": "2024-03-01T12:21:44.365287",
     "status": "completed"
    },
    "tags": []
   },
   "outputs": [],
   "source": [
    "# Use the loaded pipeline model and make predictions using testingData\n",
    "loadedPredictions = loadedPipelineModel.transform(testingData)\n"
   ]
  },
  {
   "cell_type": "markdown",
   "id": "148c34f5",
   "metadata": {
    "papermill": {
     "duration": 0.020274,
     "end_time": "2024-03-01T12:21:44.559497",
     "exception": false,
     "start_time": "2024-03-01T12:21:44.539223",
     "status": "completed"
    },
    "tags": []
   },
   "source": [
    "### Task 4 - Show the predictions\n"
   ]
  },
  {
   "cell_type": "code",
   "execution_count": 29,
   "id": "de1bb54c",
   "metadata": {
    "execution": {
     "iopub.execute_input": "2024-03-01T12:21:44.605310Z",
     "iopub.status.busy": "2024-03-01T12:21:44.604391Z",
     "iopub.status.idle": "2024-03-01T12:21:44.995922Z",
     "shell.execute_reply": "2024-03-01T12:21:44.994439Z"
    },
    "papermill": {
     "duration": 0.421054,
     "end_time": "2024-03-01T12:21:45.000581",
     "exception": false,
     "start_time": "2024-03-01T12:21:44.579527",
     "status": "completed"
    },
    "tags": []
   },
   "outputs": [
    {
     "name": "stdout",
     "output_type": "stream",
     "text": [
      "+------------------+------------------+\n",
      "|SoundLevelDecibels|prediction        |\n",
      "+------------------+------------------+\n",
      "|128.545           |121.03522307921861|\n",
      "|130.898           |122.44608224351214|\n",
      "|109.951           |127.63255285986497|\n",
      "|112.506           |129.25004941528468|\n",
      "|130.089           |122.16654986012726|\n",
      "+------------------+------------------+\n",
      "only showing top 5 rows\n",
      "\n"
     ]
    }
   ],
   "source": [
    "#show top 5 rows from the predections dataframe. Display only the label column and predictions\n",
    "#your code goes here\n",
    "loadedPredictions.select(\"SoundLevelDecibels\", \"prediction\").show(5, truncate=False)"
   ]
  },
  {
   "cell_type": "markdown",
   "id": "51a5b303",
   "metadata": {
    "papermill": {
     "duration": 0.024092,
     "end_time": "2024-03-01T12:21:45.055618",
     "exception": false,
     "start_time": "2024-03-01T12:21:45.031526",
     "status": "completed"
    },
    "tags": []
   },
   "source": [
    "### Stop Spark Session\n"
   ]
  },
  {
   "cell_type": "code",
   "execution_count": 30,
   "id": "9ef6ad59",
   "metadata": {
    "execution": {
     "iopub.execute_input": "2024-03-01T12:21:45.104528Z",
     "iopub.status.busy": "2024-03-01T12:21:45.104118Z",
     "iopub.status.idle": "2024-03-01T12:21:45.926602Z",
     "shell.execute_reply": "2024-03-01T12:21:45.925626Z"
    },
    "papermill": {
     "duration": 0.852788,
     "end_time": "2024-03-01T12:21:45.929703",
     "exception": false,
     "start_time": "2024-03-01T12:21:45.076915",
     "status": "completed"
    },
    "tags": []
   },
   "outputs": [],
   "source": [
    "spark.stop()"
   ]
  }
 ],
 "metadata": {
  "kaggle": {
   "accelerator": "none",
   "dataSources": [
    {
     "datasetId": 4520943,
     "sourceId": 7735882,
     "sourceType": "datasetVersion"
    }
   ],
   "dockerImageVersionId": 30664,
   "isGpuEnabled": false,
   "isInternetEnabled": true,
   "language": "python",
   "sourceType": "notebook"
  },
  "kernelspec": {
   "display_name": "Python 3",
   "language": "python",
   "name": "python3"
  },
  "language_info": {
   "codemirror_mode": {
    "name": "ipython",
    "version": 3
   },
   "file_extension": ".py",
   "mimetype": "text/x-python",
   "name": "python",
   "nbconvert_exporter": "python",
   "pygments_lexer": "ipython3",
   "version": "3.10.13"
  },
  "papermill": {
   "default_parameters": {},
   "duration": 105.614144,
   "end_time": "2024-03-01T12:21:48.573220",
   "environment_variables": {},
   "exception": null,
   "input_path": "__notebook__.ipynb",
   "output_path": "__notebook__.ipynb",
   "parameters": {},
   "start_time": "2024-03-01T12:20:02.959076",
   "version": "2.5.0"
  }
 },
 "nbformat": 4,
 "nbformat_minor": 5
}
